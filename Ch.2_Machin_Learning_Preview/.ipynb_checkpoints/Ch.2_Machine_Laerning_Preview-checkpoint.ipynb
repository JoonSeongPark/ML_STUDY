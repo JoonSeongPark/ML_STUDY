{
 "cells": [
  {
   "cell_type": "markdown",
   "metadata": {},
   "source": [
    "<br>\n",
    "<p style=\"text-align: right; font-weight: bold; font-size: 50px\"> Chapter. 2</p>\n",
    "<p style=\"text-align: right; font-weight: bold; font-size: 25px\"> : Machine Learning Preview</p>"
   ]
  },
  {
   "cell_type": "markdown",
   "metadata": {},
   "source": [
    "<button type=\"button\" style=\"float: right;\"> 13기 디자인팀 박준성 </button>"
   ]
  },
  {
   "cell_type": "markdown",
   "metadata": {},
   "source": [
    "---"
   ]
  },
  {
   "cell_type": "markdown",
   "metadata": {},
   "source": [
    "# 0. Open Dataset\n",
    "- [UC Irvine Machine Learning Repository](http://archive.ics.uci.edu/ml/)  \n",
    "- [Kaggle Dataset](http://www.kaggle.com/datasets)  \n",
    "- [Amazon AWS Dataset](http://aws.amazon.com/ko/datasets)  \n",
    "---"
   ]
  },
  {
   "cell_type": "markdown",
   "metadata": {},
   "source": [
    "# 1. Preparing Project\n",
    "## Machine Learning System\n",
    "1. <b>Supervised Laerning</b><s style=\"font-size:8px;\">(회귀, 분류)</s> / <b>Unsupervised Learning</b> / <b>Reinforcement Learning</b> 중에 맞는 것을 선택한다.  \n",
    "2. 모델에 사용될 Feature의 종류와 수를 확인한다.  \n",
    "3. 데이터의 수와 상태에 따라, <b>'Batch Learning'</b>과 <b>'Online Learning'</b>을 정한다.\n",
    "    - <b>Batch Learning:</b> 데이터 전체를 한 번에 학습.\n",
    "    - <b>Online Learning:</b> 데이터를 순차적으로 mini-batch를 통해서 학습.\n",
    "<br>"
   ]
  },
  {
   "cell_type": "markdown",
   "metadata": {},
   "source": [
    "## Perfomance Measure\n",
    "<p style=\"text-align: right;\">(출처: [Machine Learning Mastery](https://machinelearningmastery.com/metrics-evaluate-machine-learning-algorithms-python/))  </p>"
   ]
  },
  {
   "cell_type": "markdown",
   "metadata": {},
   "source": [
    "### 1. Classification Metrics"
   ]
  },
  {
   "cell_type": "markdown",
   "metadata": {},
   "source": [
    "#### 1.1 Classification Accuracy\n",
    ": 모든 예측 중에서 올바른 예측의 비율  \n",
    "Classification에 있어서 가장 기본적은 metric으로 각 클래스의 개수가 같고, Prediction과 Prediction Errors가 동등하게 중요할 경우에만 사용 가능하다."
   ]
  },
  {
   "cell_type": "code",
   "execution_count": 32,
   "metadata": {},
   "outputs": [
    {
     "name": "stdout",
     "output_type": "stream",
     "text": [
      "Accuracy: 0.7945 \n"
     ]
    }
   ],
   "source": [
    "import pandas as pd\n",
    "from sklearn import model_selection\n",
    "from sklearn.linear_model import LogisticRegression\n",
    "\n",
    "df = pd.read_csv(\"data/heart.csv\")\n",
    "array = df.values\n",
    "X = array[:,0:13]\n",
    "Y = array[:,13]\n",
    "kfold = model_selection.KFold(n_splits=10, random_state = 0)\n",
    "model = LogisticRegression()\n",
    "scoring = 'accuracy'\n",
    "results = model_selection.cross_val_score(model, X, Y, cv = kfold, scoring = 'accuracy')\n",
    "print(\"Accuracy: %.4f \" %results.mean())"
   ]
  },
  {
   "cell_type": "code",
   "execution_count": 35,
   "metadata": {},
   "outputs": [
    {
     "data": {
      "text/plain": [
       "1    165\n",
       "0    138\n",
       "Name: target, dtype: int64"
      ]
     },
     "execution_count": 35,
     "metadata": {},
     "output_type": "execute_result"
    }
   ],
   "source": [
    "df['target'].value_counts()"
   ]
  },
  {
   "cell_type": "markdown",
   "metadata": {},
   "source": [
    "#### 1.2 Log Loss\n",
    ": 확률값을 Prediction Input으로 받는 metric으로 0에 가까울수록 좋다.  \n",
    "따라서, (-)를 곱한Negative Log Loss를 사용함으로 직관적으로 클수록 좋다로 판단.\n",
    "<p style = \"text-align: center; font-size: 17px;\">${Log Loss} = {-(y\\log(p) + (1-y)\\log(1-p))}$  </p>"
   ]
  },
  {
   "cell_type": "code",
   "execution_count": 90,
   "metadata": {},
   "outputs": [
    {
     "name": "stdout",
     "output_type": "stream",
     "text": [
      "Log Loss: 0.4224 \n"
     ]
    }
   ],
   "source": [
    "import pandas as pd\n",
    "from sklearn import model_selection\n",
    "from sklearn.linear_model import LogisticRegression\n",
    "from sklearn.metrics import log_loss\n",
    "\n",
    "df = pd.read_csv(\"data/heart.csv\")\n",
    "array = df.values\n",
    "X = array[:,0:13]\n",
    "y = array[:,13]\n",
    "\n",
    "X_train, X_test, y_train, y_test = model_selection.train_test_split(X, y, test_size = 0.33, random_state = 0)\n",
    "model = LogisticRegression()\n",
    "model.fit(X_train, y_train)\n",
    "\n",
    "prob = model.predict_proba(X_test)\n",
    "\n",
    "log_loss_ = log_loss(y_test, prob)\n",
    "\n",
    "print(\"Log Loss: %.4f \" %log_loss_)"
   ]
  },
  {
   "cell_type": "markdown",
   "metadata": {},
   "source": [
    "#### 1.3 Confusion Matrix\n",
    ": Classification의 성능을 시각화한 테이블이다.  \n",
    "행은 Actual Class, 열은 Predicted Class에 해당한다.(반대도 가능)  \n",
    "<img src = \"./img/confusion_matrix.png\"></img>  \n",
    "- <b>TP(True Positive(2,2)):</b> Actual = 1, Prediction = 1\n",
    "- <b>TN(True Negative(1,1)):</b> Actual = 0, Prediction = 0\n",
    "- <b>FP(False Positive(1,2)):</b> Actual = 0, Prediction = 1 (Type I error)\n",
    "- <b>FN(False Negative(2,1)):</b> Actual = 1, Prediction = 0 (Type II error)  \n",
    "<br>\n",
    "Class의 수가 2개 이상일 경우에 사용 가능하다. "
   ]
  },
  {
   "cell_type": "code",
   "execution_count": 98,
   "metadata": {},
   "outputs": [
    {
     "data": {
      "text/plain": [
       "<matplotlib.axes._subplots.AxesSubplot at 0x1fb1b2ae6d8>"
      ]
     },
     "execution_count": 98,
     "metadata": {},
     "output_type": "execute_result"
    },
    {
     "data": {
      "image/png": "[encoded data removed]",
      "text/plain": [
       "<matplotlib.figure.Figure at 0x1fb1b2d3048>"
      ]
     },
     "metadata": {},
     "output_type": "display_data"
    }
   ],
   "source": [
    "import pandas as pd\n",
    "from sklearn import model_selection\n",
    "from sklearn.linear_model import LogisticRegression\n",
    "from sklearn.metrics import confusion_matrix\n",
    "import seaborn as sns\n",
    "\n",
    "df = pd.read_csv(\"data/heart.csv\")\n",
    "array = df.values\n",
    "X = array[:,0:13]\n",
    "y = array[:,13]\n",
    "\n",
    "X_train, X_test, y_train, y_test = model_selection.train_test_split(X, y, test_size = 0.33, random_state = 0)\n",
    "model = LogisticRegression()\n",
    "model.fit(X_train, y_train)\n",
    "\n",
    "y_predict = model.predict(X_test)\n",
    "\n",
    "matrix = confusion_matrix(y_test, y_predict)\n",
    "\n",
    "ax = sns.heatmap(matrix, annot = True, cmap = 'Blues', annot_kws = {\"size\":15}, cbar = False)\n",
    "ax.set_xlabel('Predicted')\n",
    "ax.set_ylabel('Actual')\n",
    "ax"
   ]
  },
  {
   "cell_type": "markdown",
   "metadata": {},
   "source": [
    "<br>  \n",
    "<p style = \"text-align: center; font-weight:bold; font-size: 20px;\">< Confusion Matrix ></p>\n",
    "<img src = \"./img/confusion_matrix.png\"></img>  \n",
    "- <b>Accuracy:</b> 전체에서 잘 분류한 것의 비율\n",
    "<br>  \n",
    "$$ Accuracy = \\frac {TP+TN} {TP+FN+FP+TN} $$\n",
    "<br>\n",
    "※ 가장 직관적으로 모델의 성능을 파악할 수 있다.  \n",
    "하지만, data의 y값이 bias된 경우에 데이터가 불균형하여 한 쪽을 예측하는 성능만 좋아진다.  \n",
    "<br>\n",
    "- <b>Precision:</b> True로 분류한 것 중에서 실제로 True인 것의 비율\n",
    "<br>  \n",
    "$$ Precision = \\frac {TP} {TP+FP} $$\n",
    "<br>\n",
    "※ 모델 기준에서 True를 True라고 맞추는 경우  \n",
    "<br>\n",
    "- <b>Recall(Sensitivity):</b> 실제 True인 것 중에서 True로 분류한 것의 비율\n",
    "<br>  \n",
    "$$ Recall = \\frac {TP} {TP+FN} $$\n",
    "<br>\n",
    "※ 실제 데이터 기준에서 True를 True라고 맞추는 경우  \n",
    "<br>\n",
    "\n",
    "- <b>F1-Score:</b> Precision과 Recall의 조화평균\n",
    "<br>  \n",
    "$$ F1-Score = 2 * \\frac 1 {\\frac 1 {Precision} + \\frac 1 {Recall}} = 2 * \\frac {Precision * Recall} {Precision + Recall} $$\n",
    "<br>\n",
    "※ data의 y값이 bias된 경우에 사용하면 좋다.  \n",
    "<br>\n",
    "<b>※ Precision과 Recall은 모두 높은 것이 좋지만, 둘은 trade-off 관계에 있다.</b>"
   ]
  },
  {
   "cell_type": "code",
   "execution_count": 103,
   "metadata": {},
   "outputs": [
    {
     "name": "stdout",
     "output_type": "stream",
     "text": [
      "Accuracy: 0.8100\n",
      "Precision: 0.8000\n",
      "Recall: 0.8462\n",
      "F1-Score: 0.8224\n"
     ]
    }
   ],
   "source": [
    "from sklearn.metrics import accuracy_score\n",
    "\n",
    "accuracy = accuracy_score(y_test, y_predict)\n",
    "\n",
    "\n",
    "from sklearn.metrics import precision_score\n",
    "\n",
    "precision = precision_score(y_test, y_predict)\n",
    "\n",
    "\n",
    "from sklearn.metrics import recall_score\n",
    "\n",
    "recall = recall_score(y_test, y_predict)\n",
    "\n",
    "\n",
    "from sklearn.metrics import f1_score\n",
    "\n",
    "f1 = f1_score(y_test, y_predict)\n",
    "\n",
    "\n",
    "print(\"Accuracy: %.4f\" %accuracy)\n",
    "print(\"Precision: %.4f\" %precision)\n",
    "print(\"Recall: %.4f\" %recall)\n",
    "print(\"F1-Score: %.4f\" %f1)"
   ]
  },
  {
   "cell_type": "markdown",
   "metadata": {},
   "source": [
    "#### 1.4 AUC (Area Under ROC Curve)\n",
    "* <b>ROC (Receiver Operating Characteristic) Curve:</b> Sensitivity(TPR)와 1-Specificity(FPR)로 그려지는 곡선  \n",
    "Curve가 왼쪽 위 모서리에 가까울수록 모델의 성능이 좋다고 평가\n",
    "<br>\n",
    "- <b>Specificity:</b> 실제 False인 것 중에서 False로 분류한 것의 비율\n",
    "<br>  \n",
    "$$ Specificity = \\frac {TN} {TN+FP} $$\n",
    "<br>\n",
    "$$ 1-Specificity = \\frac {FP} {TN+FP} $$\n",
    "<br>\n",
    "※ '1-Specificity'는 실제로 False인 것과 True로 잘못 예측한 것의 비율이다.  \n"
   ]
  },
  {
   "cell_type": "code",
   "execution_count": 205,
   "metadata": {},
   "outputs": [
    {
     "data": {
      "image/png": "[encoded data removed]",
      "text/plain": [
       "<matplotlib.figure.Figure at 0x1fb1d9ce978>"
      ]
     },
     "metadata": {},
     "output_type": "display_data"
    }
   ],
   "source": [
    "import pandas as pd\n",
    "from sklearn import model_selection\n",
    "from sklearn.linear_model import LogisticRegression\n",
    "from sklearn.metrics import roc_curve\n",
    "import matplotlib.pyplot as plt\n",
    "\n",
    "df = pd.read_csv(\"data/heart.csv\")\n",
    "array = df.values\n",
    "X = array[:,0:13]\n",
    "y = array[:,13]\n",
    "\n",
    "X_train, X_test, y_train, y_test = model_selection.train_test_split(X, y, test_size = 0.5, random_state = 0)\n",
    "model = LogisticRegression()\n",
    "model.fit(X_train, y_train)\n",
    "\n",
    "# decision_function 결과값에서 0,1을 나누는 기준값을 바꿔가면서 값을 측정\n",
    "# roc_curve에 예측값으로 .predict 값을 넣으면 안된다! (0,1 로 나누기 때문)\n",
    "fpr, tpr, _ = roc_curve(y_test, model.decision_function(X_test))\n",
    "\n",
    "plt.plot(fpr, tpr, color='royalblue')\n",
    "plt.show()"
   ]
  },
  {
   "cell_type": "markdown",
   "metadata": {},
   "source": [
    "* <b>AUC (Area Under ROC Curve):</b> ROC Curve의 아래 면적의 넓이.\n",
    "0과 1사이의 값을 가지며, ROC Curve가 왼쪽 위 모서리에 가까울수록 좋듯이 1에 가까운 값을 가질수록 좋다."
   ]
  },
  {
   "cell_type": "code",
   "execution_count": 210,
   "metadata": {},
   "outputs": [
    {
     "name": "stdout",
     "output_type": "stream",
     "text": [
      "AUC: 0.8685\n"
     ]
    },
    {
     "data": {
      "image/png": "[encoded data removed]",
      "text/plain": [
       "<matplotlib.figure.Figure at 0x1fb1d791198>"
      ]
     },
     "metadata": {},
     "output_type": "display_data"
    }
   ],
   "source": [
    "from sklearn.metrics import auc\n",
    "\n",
    "plt.plot(fpr, tpr, color='royalblue')\n",
    "plt.fill_between(fpr, tpr, color = 'skyblue')\n",
    "\n",
    "AUC = auc(fpr, tpr)\n",
    "print(\"AUC: %.4f\" %AUC)"
   ]
  },
  {
   "cell_type": "markdown",
   "metadata": {},
   "source": [
    "#### 1.5 Classification Report\n",
    ": sklearn의 classification_report는 precision, recall, f1-score, support 값을 한번에 보여준다."
   ]
  },
  {
   "cell_type": "code",
   "execution_count": 215,
   "metadata": {},
   "outputs": [
    {
     "name": "stdout",
     "output_type": "stream",
     "text": [
      "             precision    recall  f1-score   support\n",
      "\n",
      "        0.0       0.82      0.77      0.80        48\n",
      "        1.0       0.80      0.85      0.82        52\n",
      "\n",
      "avg / total       0.81      0.81      0.81       100\n",
      "\n"
     ]
    }
   ],
   "source": [
    "import pandas as pd\n",
    "from sklearn import model_selection\n",
    "from sklearn.linear_model import LogisticRegression\n",
    "from sklearn.metrics import classification_report\n",
    "\n",
    "df = pd.read_csv(\"data/heart.csv\")\n",
    "array = df.values\n",
    "X = array[:,0:13]\n",
    "y = array[:,13]\n",
    "\n",
    "X_train, X_test, y_train, y_test = model_selection.train_test_split(X, y, test_size = 0.33, random_state = 0)\n",
    "model = LogisticRegression()\n",
    "model.fit(X_train, y_train)\n",
    "\n",
    "y_predict = model.predict(X_test)\n",
    "\n",
    "report = classification_report(y_test, y_predict)\n",
    "print(report)"
   ]
  },
  {
   "cell_type": "markdown",
   "metadata": {},
   "source": [
    "### 2. Regression Metrics"
   ]
  },
  {
   "cell_type": "markdown",
   "metadata": {},
   "source": [
    "#### 2.1 MAE (Mean Absolute Error)\n",
    ": 실제값과 예측값 차이의 절대값의 평균.  \n",
    "단, 차이가 양수인지 음수인지는 고려되지 않는다.  \n",
    "<br>\n",
    "$$ MAE = \\frac {\\sum \\lvert{y_i - \\hat{y_i}}\\rvert} n = \\frac {\\sum \\lvert{e_i}\\rvert} n $$\n",
    "<br>"
   ]
  },
  {
   "cell_type": "code",
   "execution_count": 251,
   "metadata": {},
   "outputs": [
    {
     "name": "stdout",
     "output_type": "stream",
     "text": [
      "MAE: 3.5617\n"
     ]
    }
   ],
   "source": [
    "import pandas as pd\n",
    "from sklearn.linear_model import LinearRegression\n",
    "from sklearn import model_selection\n",
    "from sklearn.metrics import mean_absolute_error\n",
    "\n",
    "df = pd.read_csv(\"data/boston_house_price.csv\", index_col = 0)\n",
    "array = df.values\n",
    "X = array[:,0:13]\n",
    "y = array[:,13]\n",
    "\n",
    "X_train, X_test, y_train, y_test = model_selection.train_test_split(X, y, test_size = 0.33, random_state = 0)\n",
    "\n",
    "model = LinearRegression()\n",
    "model.fit(X_train,y_train)\n",
    "\n",
    "y_predict = model.predict(X_test)\n",
    "\n",
    "MAE = mean_absolute_error(y_test, y_predict)\n",
    "print(\"MAE: %.4f\" %MAE)"
   ]
  },
  {
   "cell_type": "markdown",
   "metadata": {},
   "source": [
    "#### 2.2 MSE (Mean Squared Error) / RMSE (Root MSE)\n",
    ": 실제값과 예측값 차이의 제곱값의 평균.  \n",
    "<b>RMSE</b>의 경우는 MSE에 Root를 취한 값이다.  \n",
    "<br>\n",
    "$$ MSE = \\frac {\\sum {(\\hat{y_i} - y_i)^2}} n = \\frac {\\sum {e_i^2}} n $$\n",
    "<br>\n",
    "$$ RMSE = \\frac {\\sqrt {\\sum {(\\hat{y_i} - y_i)^2}}} n = \\frac {\\sqrt {\\sum {e_i^2}}} n $$\n",
    "<br>\n",
    "※ <b>MSE</b>와 <b>RMSE</b> 값이 단순히 낮다고 해서 좋은 것이 아니라 평균과 함께 고려하여야 한다.  \n",
    "( <b>RMSE</b> / $\\bar{X}$ ) 값이 예측값의 변동성을 나타낸다."
   ]
  },
  {
   "cell_type": "code",
   "execution_count": 254,
   "metadata": {},
   "outputs": [
    {
     "name": "stdout",
     "output_type": "stream",
     "text": [
      "MSE: 26.5586\n",
      "RMSE: 5.1535\n"
     ]
    }
   ],
   "source": [
    "import pandas as pd\n",
    "from sklearn.linear_model import LinearRegression\n",
    "from sklearn import model_selection\n",
    "from sklearn.metrics import mean_squared_error\n",
    "\n",
    "df = pd.read_csv(\"data/boston_house_price.csv\", index_col = 0)\n",
    "array = df.values\n",
    "X = array[:,0:13]\n",
    "y = array[:,13]\n",
    "\n",
    "X_train, X_test, y_train, y_test = model_selection.train_test_split(X, y, test_size = 0.33, random_state = 0)\n",
    "\n",
    "model = LinearRegression()\n",
    "model.fit(X_train,y_train)\n",
    "\n",
    "y_predict = model.predict(X_test)\n",
    "\n",
    "MSE = mean_squared_error(y_test, y_predict)\n",
    "RMSE = MSE**0.5\n",
    "\n",
    "print(\"MSE: %.4f\" %MSE)\n",
    "print(\"RMSE: %.4f\" %RMSE)"
   ]
  },
  {
   "cell_type": "markdown",
   "metadata": {},
   "source": [
    "#### 2.3 $R^2$ (R-Squared)\n",
    ": <b>Coefficient of Determination</b>으로 <b>결정계수</b>라고 하며, 회귀선의 설명력을 의미한다.  \n",
    "<b>$R^2$</b>값이 0에 가까우면 설명력이 낮다는 것을 의미하고 데이터가 모델에 적합하지 않다는 것을 말한다.  \n",
    "<b>MAE, MSE, RMSE</b>는 데이터의 Scale에 따라 값의 차이가 심해서 판단하기 어렵다.  \n",
    "<br>\n",
    "$$ R^2 = \\frac {SSR} {SST} = 1 - \\frac {SSE} {SST} $$\n",
    "<br>\n",
    "$$ SST = SSE + SSR $$\n",
    "- <b>SST(Sum of Square Total):</b> 실제값과 평균값의 차이 (SSE와 SSR의 합)\n",
    "<br>  \n",
    "$$ SST = \\sum {(y_i - \\bar{y})^2}$$\n",
    "<br>\n",
    "- <b>SSE(Sum of Square Error):</b> 회귀식과 실제값의 차이\n",
    "<br>  \n",
    "$$ SSE = \\sum {(\\hat{y_i} - y_i)^2}$$\n",
    "<br>\n",
    "- <b>SSR(Sum of Square Regression):</b> 회귀식과 평균값의 차이\n",
    "<br>  \n",
    "$$ SSR = \\sum {(\\hat{y_i} - \\bar{y_i})^2}$$\n",
    "<br>\n",
    "※ 변수의 수를 증가시키면 <b>$R^2$</b>값이 증가하지만, 과적합이 발생할 수 있다."
   ]
  },
  {
   "cell_type": "code",
   "execution_count": 256,
   "metadata": {},
   "outputs": [
    {
     "name": "stdout",
     "output_type": "stream",
     "text": [
      "R-Squared: 0.6706\n"
     ]
    }
   ],
   "source": [
    "import pandas as pd\n",
    "from sklearn.linear_model import LinearRegression\n",
    "from sklearn import model_selection\n",
    "from sklearn.metrics import r2_score\n",
    "\n",
    "df = pd.read_csv(\"data/boston_house_price.csv\", index_col = 0)\n",
    "array = df.values\n",
    "X = array[:,0:13]\n",
    "y = array[:,13]\n",
    "\n",
    "X_train, X_test, y_train, y_test = model_selection.train_test_split(X, y, test_size = 0.33, random_state = 0)\n",
    "\n",
    "model = LinearRegression()\n",
    "model.fit(X_train,y_train)\n",
    "\n",
    "y_predict = model.predict(X_test)\n",
    "\n",
    "R_2 = r2_score(y_test, y_predict)\n",
    "\n",
    "print(\"R-Squared: %.4f\" %R_2)"
   ]
  },
  {
   "cell_type": "code",
   "execution_count": null,
   "metadata": {},
   "outputs": [],
   "source": []
  }
 ],
 "metadata": {
  "kernelspec": {
   "display_name": "Python 3",
   "language": "python",
   "name": "python3"
  },
  "language_info": {
   "codemirror_mode": {
    "name": "ipython",
    "version": 3
   },
   "file_extension": ".py",
   "mimetype": "text/x-python",
   "name": "python",
   "nbconvert_exporter": "python",
   "pygments_lexer": "ipython3",
   "version": "3.6.4"
  }
 },
 "nbformat": 4,
 "nbformat_minor": 2
}
